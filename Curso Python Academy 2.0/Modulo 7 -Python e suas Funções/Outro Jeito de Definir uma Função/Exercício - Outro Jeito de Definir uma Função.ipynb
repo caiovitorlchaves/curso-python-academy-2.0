{
 "cells": [
  {
   "cell_type": "markdown",
   "metadata": {},
   "source": [
    "## Outro Jeito de Definir uma Função"
   ]
  },
  {
   "cell_type": "markdown",
   "metadata": {},
   "source": [
    "\n",
    "Seguem as respostas sugeridas (geralmente existem várias maneiras de resolver um problema em Python)."
   ]
  },
  {
   "cell_type": "markdown",
   "metadata": {},
   "source": [
    "\n",
    "Defina uma função que declare o valor do argumento acompanhado da frase \"Elevado à potência de 2:\" e retorne um valor igual ao seu argumento elevado à potência de 2. Desta vez, use uma nova variável, chamada \"resultado\" , no corpo da Função. Chame a função com algum argumento para verificar se ela funciona corretamente.\n",
    "\n",
    "Dica: seu conhecimento sobre como declarar vários elementos em uma linha pode ser de grande ajuda para resolver este exercício!"
   ]
  },
  {
   "cell_type": "code",
   "execution_count": null,
   "metadata": {},
   "outputs": [],
   "source": []
  },
  {
   "cell_type": "code",
   "execution_count": null,
   "metadata": {},
   "outputs": [],
   "source": []
  }
 ],
 "metadata": {
  "anaconda-cloud": {},
  "kernelspec": {
   "display_name": "Python 3",
   "language": "python",
   "name": "python3"
  },
  "language_info": {
   "codemirror_mode": {
    "name": "ipython",
    "version": 3
   },
   "file_extension": ".py",
   "mimetype": "text/x-python",
   "name": "python",
   "nbconvert_exporter": "python",
   "pygments_lexer": "ipython3",
   "version": "3.8.3"
  }
 },
 "nbformat": 4,
 "nbformat_minor": 1
}
