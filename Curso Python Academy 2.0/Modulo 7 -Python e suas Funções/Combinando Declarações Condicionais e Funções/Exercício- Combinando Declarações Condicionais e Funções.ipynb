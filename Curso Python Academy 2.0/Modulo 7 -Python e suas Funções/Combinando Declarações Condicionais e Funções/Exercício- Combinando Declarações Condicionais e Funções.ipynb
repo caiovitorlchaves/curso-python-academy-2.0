{
 "cells": [
  {
   "cell_type": "markdown",
   "metadata": {},
   "source": [
    "## Combinando Declarações Condicionais e Funções"
   ]
  },
  {
   "cell_type": "markdown",
   "metadata": {},
   "source": [
    "\n",
    "Seguem as respostas sugeridas (geralmente existem várias maneiras de resolver um problema em Python)."
   ]
  },
  {
   "cell_type": "markdown",
   "metadata": {},
   "source": [
    "Defina uma função, chamada compare_as_duas (), com dois argumentos. Se o primeiro for maior que o segundo, deixe imprimir \"Maior\". Se o segundo for maior, deve imprimir \"Menos\". Deixe imprimir \"Igual\" se os dois valores forem o mesmo número."
   ]
  },
  {
   "cell_type": "code",
   "execution_count": 4,
   "metadata": {},
   "outputs": [
    {
     "name": "stdout",
     "output_type": "stream",
     "text": [
      "Iguais\n",
      "None\n"
     ]
    }
   ],
   "source": [
    "def compare_as_duas(x, y):\n",
    "    if x > y:\n",
    "        print(\"Maior\")\n",
    "    elif x < y:\n",
    "        print(\"Menor\")\n",
    "    else:\n",
    "        print(\"Iguais\")\n",
    "print(compare_as_duas(10, 10))"
   ]
  },
  {
   "cell_type": "code",
   "execution_count": null,
   "metadata": {},
   "outputs": [],
   "source": []
  }
 ],
 "metadata": {
  "anaconda-cloud": {},
  "kernelspec": {
   "display_name": "Python 3",
   "language": "python",
   "name": "python3"
  },
  "language_info": {
   "codemirror_mode": {
    "name": "ipython",
    "version": 3
   },
   "file_extension": ".py",
   "mimetype": "text/x-python",
   "name": "python",
   "nbconvert_exporter": "python",
   "pygments_lexer": "ipython3",
   "version": "3.9.2"
  }
 },
 "nbformat": 4,
 "nbformat_minor": 1
}
