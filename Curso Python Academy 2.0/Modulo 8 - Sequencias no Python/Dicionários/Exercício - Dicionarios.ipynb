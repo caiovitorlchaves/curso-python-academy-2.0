{
 "cells": [
  {
   "cell_type": "markdown",
   "metadata": {},
   "source": [
    "## Dicionários"
   ]
  },
  {
   "cell_type": "markdown",
   "metadata": {},
   "source": [
    "\n",
    "Seguem as respostas sugeridas (geralmente existem várias maneiras de resolver um problema em Python)."
   ]
  },
  {
   "cell_type": "markdown",
   "metadata": {},
   "source": [
    "\n",
    "Este é o menu de um restaurante próximo:"
   ]
  },
  {
   "cell_type": "code",
   "execution_count": 1,
   "metadata": {},
   "outputs": [],
   "source": [
    "Menu = {'prato_1':'macarrão', 'prato_2':'salada', 'prato_3':'Hamburger', 'prato_4':'peixe'}"
   ]
  },
  {
   "cell_type": "markdown",
   "metadata": {},
   "source": [
    "\n",
    "Qual é a segunda refeição da lista?"
   ]
  },
  {
   "cell_type": "code",
   "execution_count": 12,
   "metadata": {},
   "outputs": [
    {
     "name": "stdout",
     "output_type": "stream",
     "text": [
      "salada\n"
     ]
    }
   ],
   "source": [
    "print(Menu['prato_2'])"
   ]
  },
  {
   "cell_type": "markdown",
   "metadata": {},
   "source": [
    "ou:"
   ]
  },
  {
   "cell_type": "code",
   "execution_count": null,
   "metadata": {},
   "outputs": [],
   "source": []
  },
  {
   "cell_type": "markdown",
   "metadata": {},
   "source": [
    "\n",
    "Adicione uma nova refeição - \"frango\"."
   ]
  },
  {
   "cell_type": "code",
   "execution_count": 5,
   "metadata": {},
   "outputs": [
    {
     "data": {
      "text/plain": [
       "{'prato_1': 'macarrão',\n",
       " 'prato_2': 'salada',\n",
       " 'prato_3': 'Hamburger',\n",
       " 'prato_4': 'peixe',\n",
       " 'prato_5': 'frago'}"
      ]
     },
     "execution_count": 5,
     "metadata": {},
     "output_type": "execute_result"
    }
   ],
   "source": [
    "Menu['prato_5'] = 'frago'\n",
    "Menu"
   ]
  },
  {
   "cell_type": "markdown",
   "metadata": {},
   "source": [
    "Substitua o hambúrguer por um omelete."
   ]
  },
  {
   "cell_type": "code",
   "execution_count": 6,
   "metadata": {},
   "outputs": [
    {
     "data": {
      "text/plain": [
       "{'prato_1': 'macarrão',\n",
       " 'prato_2': 'salada',\n",
       " 'prato_3': 'omelete',\n",
       " 'prato_4': 'peixe',\n",
       " 'prato_5': 'frago'}"
      ]
     },
     "execution_count": 6,
     "metadata": {},
     "output_type": "execute_result"
    }
   ],
   "source": [
    "Menu['prato_3'] = 'omelete'\n",
    "Menu"
   ]
  },
  {
   "cell_type": "markdown",
   "metadata": {},
   "source": [
    "\n",
    "Anexe a lista de sobremesas na forma de uma sexta refeição."
   ]
  },
  {
   "cell_type": "code",
   "execution_count": 7,
   "metadata": {},
   "outputs": [
    {
     "data": {
      "text/plain": [
       "{'prato_1': 'macarrão',\n",
       " 'prato_2': 'salada',\n",
       " 'prato_3': 'omelete',\n",
       " 'prato_4': 'peixe',\n",
       " 'prato_5': 'frago',\n",
       " 'prato_6': 'Pudim'}"
      ]
     },
     "execution_count": 7,
     "metadata": {},
     "output_type": "execute_result"
    }
   ],
   "source": [
    "Menu['prato_6'] = 'Pudim'\n",
    "Menu"
   ]
  },
  {
   "cell_type": "code",
   "execution_count": null,
   "metadata": {},
   "outputs": [],
   "source": []
  },
  {
   "cell_type": "markdown",
   "metadata": {},
   "source": [
    "Crie um novo dicionário que contenha as cinco primeiras refeições como chaves e atribua os seguintes cinco valores como preços (em reais):\n",
    "10, 5, 8, 12, 5.\n",
    "Comece por *lista_de_preço = {}*."
   ]
  },
  {
   "cell_type": "code",
   "execution_count": 8,
   "metadata": {},
   "outputs": [
    {
     "data": {
      "text/plain": [
       "{'macarrão': 'R$10',\n",
       " 'salada': 'R$5',\n",
       " 'omelete': 'R$8',\n",
       " 'peixe': 'R$12',\n",
       " 'frago': 'R$5'}"
      ]
     },
     "execution_count": 8,
     "metadata": {},
     "output_type": "execute_result"
    }
   ],
   "source": [
    "lista_de_preços = {'macarrão': 'R$10',\n",
    " 'salada': 'R$5',\n",
    " 'omelete': 'R$8',\n",
    " 'peixe': 'R$12',\n",
    " 'frago': 'R$5'}\n",
    "lista_de_preços"
   ]
  },
  {
   "cell_type": "markdown",
   "metadata": {},
   "source": [
    "ou:"
   ]
  },
  {
   "cell_type": "code",
   "execution_count": null,
   "metadata": {},
   "outputs": [],
   "source": [
    "lista_de_preço = {}\n",
    "lista_de_preço['macarrão'] = 10\n",
    "lista_de_preço['salada'] = 5\n",
    "lista_de_preço['omelete'] = 8\n",
    "lista_de_preço['peixe'] = 12\n",
    "lista_de_preço['frango'] = 5\n",
    "lista_de_preço"
   ]
  },
  {
   "cell_type": "markdown",
   "metadata": {},
   "source": [
    "\n",
    "Use o método .get () para verificar o preço do omelete."
   ]
  },
  {
   "cell_type": "code",
   "execution_count": 11,
   "metadata": {
    "scrolled": true
   },
   "outputs": [
    {
     "name": "stdout",
     "output_type": "stream",
     "text": [
      "R$8\n"
     ]
    }
   ],
   "source": [
    "print(lista_de_preços.get('omelete'))\n"
   ]
  },
  {
   "cell_type": "markdown",
   "metadata": {},
   "source": [
    "ou:"
   ]
  },
  {
   "cell_type": "code",
   "execution_count": null,
   "metadata": {},
   "outputs": [],
   "source": []
  }
 ],
 "metadata": {
  "anaconda-cloud": {},
  "kernelspec": {
   "display_name": "Python 3",
   "language": "python",
   "name": "python3"
  },
  "language_info": {
   "codemirror_mode": {
    "name": "ipython",
    "version": 3
   },
   "file_extension": ".py",
   "mimetype": "text/x-python",
   "name": "python",
   "nbconvert_exporter": "python",
   "pygments_lexer": "ipython3",
   "version": "3.9.2"
  }
 },
 "nbformat": 4,
 "nbformat_minor": 1
}
