{
 "cells": [
  {
   "cell_type": "markdown",
   "metadata": {},
   "source": [
    "## Como Importar e Organizar seus Dados - Parte I"
   ]
  },
  {
   "cell_type": "markdown",
   "metadata": {},
   "source": [
    "\n",
    "* Seguem as respostas sugeridas (geralmente, existem várias maneiras de resolver um problema em Python). *"
   ]
  },
  {
   "cell_type": "markdown",
   "metadata": {},
   "source": [
    "\n",
    " A. (* Desafio! *) Crie um objeto de série de 10 valores inteiros gerados aleatoriamente."
   ]
  },
  {
   "cell_type": "code",
   "execution_count": 1,
   "metadata": {},
   "outputs": [],
   "source": [
    "import numpy as np\n",
    "import pandas as pd"
   ]
  },
  {
   "cell_type": "code",
   "execution_count": 2,
   "metadata": {},
   "outputs": [],
   "source": [
    "ser = pd.Series(np.random.randint(10, size = 10, dtype = 'int'), name = \"Coluna 01\")"
   ]
  },
  {
   "cell_type": "code",
   "execution_count": 3,
   "metadata": {},
   "outputs": [
    {
     "data": {
      "text/plain": [
       "0    2\n",
       "1    7\n",
       "2    3\n",
       "3    9\n",
       "4    5\n",
       "5    3\n",
       "6    6\n",
       "7    9\n",
       "8    6\n",
       "9    9\n",
       "Name: Coluna 01, dtype: int32"
      ]
     },
     "execution_count": 3,
     "metadata": {},
     "output_type": "execute_result"
    }
   ],
   "source": [
    "ser"
   ]
  },
  {
   "cell_type": "markdown",
   "metadata": {},
   "source": [
    "B. Extraia os dados da yahoo para a Vale S.A. de 1º de janeiro de 2015 até o dia atual. O ticker de que você precisa é ‘VALE3.SA’."
   ]
  },
  {
   "cell_type": "code",
   "execution_count": 6,
   "metadata": {},
   "outputs": [],
   "source": [
    "from pandas_datareader import data as wb"
   ]
  },
  {
   "cell_type": "code",
   "execution_count": 8,
   "metadata": {},
   "outputs": [],
   "source": [
    "Vale = wb.DataReader('VALE3.SA', data_source='yahoo', start='2015-1-1')"
   ]
  },
  {
   "cell_type": "code",
   "execution_count": 9,
   "metadata": {},
   "outputs": [
    {
     "data": {
      "text/html": [
       "<div>\n",
       "<style scoped>\n",
       "    .dataframe tbody tr th:only-of-type {\n",
       "        vertical-align: middle;\n",
       "    }\n",
       "\n",
       "    .dataframe tbody tr th {\n",
       "        vertical-align: top;\n",
       "    }\n",
       "\n",
       "    .dataframe thead th {\n",
       "        text-align: right;\n",
       "    }\n",
       "</style>\n",
       "<table border=\"1\" class=\"dataframe\">\n",
       "  <thead>\n",
       "    <tr style=\"text-align: right;\">\n",
       "      <th></th>\n",
       "      <th>High</th>\n",
       "      <th>Low</th>\n",
       "      <th>Open</th>\n",
       "      <th>Close</th>\n",
       "      <th>Volume</th>\n",
       "      <th>Adj Close</th>\n",
       "    </tr>\n",
       "    <tr>\n",
       "      <th>Date</th>\n",
       "      <th></th>\n",
       "      <th></th>\n",
       "      <th></th>\n",
       "      <th></th>\n",
       "      <th></th>\n",
       "      <th></th>\n",
       "    </tr>\n",
       "  </thead>\n",
       "  <tbody>\n",
       "    <tr>\n",
       "      <th>2015-01-02</th>\n",
       "      <td>21.950001</td>\n",
       "      <td>21.059999</td>\n",
       "      <td>21.700001</td>\n",
       "      <td>21.280001</td>\n",
       "      <td>5658400.0</td>\n",
       "      <td>17.994938</td>\n",
       "    </tr>\n",
       "    <tr>\n",
       "      <th>2015-01-05</th>\n",
       "      <td>21.129999</td>\n",
       "      <td>20.510000</td>\n",
       "      <td>20.760000</td>\n",
       "      <td>20.959999</td>\n",
       "      <td>8603000.0</td>\n",
       "      <td>17.724333</td>\n",
       "    </tr>\n",
       "    <tr>\n",
       "      <th>2015-01-06</th>\n",
       "      <td>22.129999</td>\n",
       "      <td>21.070000</td>\n",
       "      <td>21.070000</td>\n",
       "      <td>21.799999</td>\n",
       "      <td>9879900.0</td>\n",
       "      <td>18.434660</td>\n",
       "    </tr>\n",
       "    <tr>\n",
       "      <th>2015-01-07</th>\n",
       "      <td>22.809999</td>\n",
       "      <td>21.969999</td>\n",
       "      <td>22.320000</td>\n",
       "      <td>22.600000</td>\n",
       "      <td>6130900.0</td>\n",
       "      <td>19.111164</td>\n",
       "    </tr>\n",
       "    <tr>\n",
       "      <th>2015-01-08</th>\n",
       "      <td>22.879999</td>\n",
       "      <td>22.110001</td>\n",
       "      <td>22.770000</td>\n",
       "      <td>22.840000</td>\n",
       "      <td>4667300.0</td>\n",
       "      <td>19.314112</td>\n",
       "    </tr>\n",
       "    <tr>\n",
       "      <th>...</th>\n",
       "      <td>...</td>\n",
       "      <td>...</td>\n",
       "      <td>...</td>\n",
       "      <td>...</td>\n",
       "      <td>...</td>\n",
       "      <td>...</td>\n",
       "    </tr>\n",
       "    <tr>\n",
       "      <th>2020-09-01</th>\n",
       "      <td>61.790001</td>\n",
       "      <td>60.200001</td>\n",
       "      <td>60.290001</td>\n",
       "      <td>61.759998</td>\n",
       "      <td>24197700.0</td>\n",
       "      <td>61.759998</td>\n",
       "    </tr>\n",
       "    <tr>\n",
       "      <th>2020-09-02</th>\n",
       "      <td>62.340000</td>\n",
       "      <td>60.320000</td>\n",
       "      <td>61.900002</td>\n",
       "      <td>61.320000</td>\n",
       "      <td>21797200.0</td>\n",
       "      <td>61.320000</td>\n",
       "    </tr>\n",
       "    <tr>\n",
       "      <th>2020-09-03</th>\n",
       "      <td>60.549999</td>\n",
       "      <td>58.849998</td>\n",
       "      <td>60.000000</td>\n",
       "      <td>59.320000</td>\n",
       "      <td>36117400.0</td>\n",
       "      <td>59.320000</td>\n",
       "    </tr>\n",
       "    <tr>\n",
       "      <th>2020-09-04</th>\n",
       "      <td>60.500000</td>\n",
       "      <td>58.700001</td>\n",
       "      <td>59.709999</td>\n",
       "      <td>60.490002</td>\n",
       "      <td>26636700.0</td>\n",
       "      <td>60.490002</td>\n",
       "    </tr>\n",
       "    <tr>\n",
       "      <th>2020-09-08</th>\n",
       "      <td>59.759998</td>\n",
       "      <td>58.959999</td>\n",
       "      <td>59.590000</td>\n",
       "      <td>59.330002</td>\n",
       "      <td>10357700.0</td>\n",
       "      <td>59.330002</td>\n",
       "    </tr>\n",
       "  </tbody>\n",
       "</table>\n",
       "<p>1412 rows × 6 columns</p>\n",
       "</div>"
      ],
      "text/plain": [
       "                 High        Low       Open      Close      Volume  Adj Close\n",
       "Date                                                                         \n",
       "2015-01-02  21.950001  21.059999  21.700001  21.280001   5658400.0  17.994938\n",
       "2015-01-05  21.129999  20.510000  20.760000  20.959999   8603000.0  17.724333\n",
       "2015-01-06  22.129999  21.070000  21.070000  21.799999   9879900.0  18.434660\n",
       "2015-01-07  22.809999  21.969999  22.320000  22.600000   6130900.0  19.111164\n",
       "2015-01-08  22.879999  22.110001  22.770000  22.840000   4667300.0  19.314112\n",
       "...               ...        ...        ...        ...         ...        ...\n",
       "2020-09-01  61.790001  60.200001  60.290001  61.759998  24197700.0  61.759998\n",
       "2020-09-02  62.340000  60.320000  61.900002  61.320000  21797200.0  61.320000\n",
       "2020-09-03  60.549999  58.849998  60.000000  59.320000  36117400.0  59.320000\n",
       "2020-09-04  60.500000  58.700001  59.709999  60.490002  26636700.0  60.490002\n",
       "2020-09-08  59.759998  58.959999  59.590000  59.330002  10357700.0  59.330002\n",
       "\n",
       "[1412 rows x 6 columns]"
      ]
     },
     "execution_count": 9,
     "metadata": {},
     "output_type": "execute_result"
    }
   ],
   "source": [
    "Vale "
   ]
  },
  {
   "cell_type": "code",
   "execution_count": null,
   "metadata": {},
   "outputs": [],
   "source": []
  }
 ],
 "metadata": {
  "kernelspec": {
   "display_name": "Python 3",
   "language": "python",
   "name": "python3"
  },
  "language_info": {
   "codemirror_mode": {
    "name": "ipython",
    "version": 3
   },
   "file_extension": ".py",
   "mimetype": "text/x-python",
   "name": "python",
   "nbconvert_exporter": "python",
   "pygments_lexer": "ipython3",
   "version": "3.8.3"
  }
 },
 "nbformat": 4,
 "nbformat_minor": 2
}
