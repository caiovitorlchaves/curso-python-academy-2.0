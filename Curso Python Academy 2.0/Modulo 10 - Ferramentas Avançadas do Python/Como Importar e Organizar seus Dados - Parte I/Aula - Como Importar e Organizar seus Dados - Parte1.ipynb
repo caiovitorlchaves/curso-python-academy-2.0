{
 "cells": [
  {
   "cell_type": "markdown",
   "metadata": {},
   "source": [
    "API : A sigla vem de \"Interface de Programação de Aplicativos\" e a informação vem de um servidor Web, então toda a informação\n",
    "        vem da internet (nós vamos usar os dados do \"yahoo\" finance no decorrer das aulas) o Pandas DataReader vai nos ajudar \n",
    "        a acessar esses dados\n",
    "\n",
    "CSV : A Sigla vem de \"Valor Separado por Vírgula\" e não precisa de internet para ser acessado"
   ]
  },
  {
   "cell_type": "code",
   "execution_count": 1,
   "metadata": {},
   "outputs": [],
   "source": [
    "import numpy as np\n",
    "import pandas as pd"
   ]
  },
  {
   "cell_type": "code",
   "execution_count": 2,
   "metadata": {},
   "outputs": [],
   "source": [
    "serie = pd.Series(np.random.random(7), name = 'coluna 01')"
   ]
  },
  {
   "cell_type": "code",
   "execution_count": 3,
   "metadata": {},
   "outputs": [
    {
     "data": {
      "text/plain": [
       "0    0.310716\n",
       "1    0.685141\n",
       "2    0.765450\n",
       "3    0.489478\n",
       "4    0.678474\n",
       "5    0.608548\n",
       "6    0.700594\n",
       "Name: coluna 01, dtype: float64"
      ]
     },
     "execution_count": 3,
     "metadata": {},
     "output_type": "execute_result"
    }
   ],
   "source": [
    "serie"
   ]
  },
  {
   "cell_type": "code",
   "execution_count": 5,
   "metadata": {},
   "outputs": [
    {
     "data": {
      "text/plain": [
       "0.6784738943277936"
      ]
     },
     "execution_count": 5,
     "metadata": {},
     "output_type": "execute_result"
    }
   ],
   "source": [
    "serie[4]"
   ]
  },
  {
   "cell_type": "code",
   "execution_count": 6,
   "metadata": {},
   "outputs": [],
   "source": [
    "from pandas_datareader import data as wb"
   ]
  },
  {
   "cell_type": "code",
   "execution_count": 7,
   "metadata": {},
   "outputs": [],
   "source": [
    "PETR4 = wb.DataReader('PETR4.SA',data_source='yahoo', start='2010-1-1')"
   ]
  },
  {
   "cell_type": "code",
   "execution_count": 8,
   "metadata": {},
   "outputs": [
    {
     "data": {
      "text/html": [
       "<div>\n",
       "<style scoped>\n",
       "    .dataframe tbody tr th:only-of-type {\n",
       "        vertical-align: middle;\n",
       "    }\n",
       "\n",
       "    .dataframe tbody tr th {\n",
       "        vertical-align: top;\n",
       "    }\n",
       "\n",
       "    .dataframe thead th {\n",
       "        text-align: right;\n",
       "    }\n",
       "</style>\n",
       "<table border=\"1\" class=\"dataframe\">\n",
       "  <thead>\n",
       "    <tr style=\"text-align: right;\">\n",
       "      <th></th>\n",
       "      <th>High</th>\n",
       "      <th>Low</th>\n",
       "      <th>Open</th>\n",
       "      <th>Close</th>\n",
       "      <th>Volume</th>\n",
       "      <th>Adj Close</th>\n",
       "    </tr>\n",
       "    <tr>\n",
       "      <th>Date</th>\n",
       "      <th></th>\n",
       "      <th></th>\n",
       "      <th></th>\n",
       "      <th></th>\n",
       "      <th></th>\n",
       "      <th></th>\n",
       "    </tr>\n",
       "  </thead>\n",
       "  <tbody>\n",
       "    <tr>\n",
       "      <th>2010-01-04</th>\n",
       "      <td>37.320000</td>\n",
       "      <td>36.820000</td>\n",
       "      <td>36.950001</td>\n",
       "      <td>37.320000</td>\n",
       "      <td>13303600.0</td>\n",
       "      <td>31.196165</td>\n",
       "    </tr>\n",
       "    <tr>\n",
       "      <th>2010-01-05</th>\n",
       "      <td>37.430000</td>\n",
       "      <td>36.799999</td>\n",
       "      <td>37.380001</td>\n",
       "      <td>37.000000</td>\n",
       "      <td>21396400.0</td>\n",
       "      <td>30.928682</td>\n",
       "    </tr>\n",
       "    <tr>\n",
       "      <th>2010-01-06</th>\n",
       "      <td>37.500000</td>\n",
       "      <td>36.799999</td>\n",
       "      <td>36.799999</td>\n",
       "      <td>37.500000</td>\n",
       "      <td>18720600.0</td>\n",
       "      <td>31.346632</td>\n",
       "    </tr>\n",
       "    <tr>\n",
       "      <th>2010-01-07</th>\n",
       "      <td>37.450001</td>\n",
       "      <td>37.070000</td>\n",
       "      <td>37.270000</td>\n",
       "      <td>37.150002</td>\n",
       "      <td>10964600.0</td>\n",
       "      <td>31.054062</td>\n",
       "    </tr>\n",
       "    <tr>\n",
       "      <th>2010-01-08</th>\n",
       "      <td>37.389999</td>\n",
       "      <td>36.860001</td>\n",
       "      <td>37.160000</td>\n",
       "      <td>36.950001</td>\n",
       "      <td>14624200.0</td>\n",
       "      <td>30.886881</td>\n",
       "    </tr>\n",
       "    <tr>\n",
       "      <th>...</th>\n",
       "      <td>...</td>\n",
       "      <td>...</td>\n",
       "      <td>...</td>\n",
       "      <td>...</td>\n",
       "      <td>...</td>\n",
       "      <td>...</td>\n",
       "    </tr>\n",
       "    <tr>\n",
       "      <th>2020-09-04</th>\n",
       "      <td>23.030001</td>\n",
       "      <td>22.580000</td>\n",
       "      <td>23.000000</td>\n",
       "      <td>22.920000</td>\n",
       "      <td>52351100.0</td>\n",
       "      <td>22.920000</td>\n",
       "    </tr>\n",
       "    <tr>\n",
       "      <th>2020-09-08</th>\n",
       "      <td>22.500000</td>\n",
       "      <td>21.910000</td>\n",
       "      <td>22.500000</td>\n",
       "      <td>22.260000</td>\n",
       "      <td>74490200.0</td>\n",
       "      <td>22.260000</td>\n",
       "    </tr>\n",
       "    <tr>\n",
       "      <th>2020-09-09</th>\n",
       "      <td>22.770000</td>\n",
       "      <td>22.490000</td>\n",
       "      <td>22.490000</td>\n",
       "      <td>22.730000</td>\n",
       "      <td>42143500.0</td>\n",
       "      <td>22.730000</td>\n",
       "    </tr>\n",
       "    <tr>\n",
       "      <th>2020-09-10</th>\n",
       "      <td>22.580000</td>\n",
       "      <td>22.110001</td>\n",
       "      <td>22.580000</td>\n",
       "      <td>22.120001</td>\n",
       "      <td>58350000.0</td>\n",
       "      <td>22.120001</td>\n",
       "    </tr>\n",
       "    <tr>\n",
       "      <th>2020-09-11</th>\n",
       "      <td>22.170000</td>\n",
       "      <td>21.790001</td>\n",
       "      <td>22.120001</td>\n",
       "      <td>21.830000</td>\n",
       "      <td>14875800.0</td>\n",
       "      <td>21.830000</td>\n",
       "    </tr>\n",
       "  </tbody>\n",
       "</table>\n",
       "<p>2615 rows × 6 columns</p>\n",
       "</div>"
      ],
      "text/plain": [
       "                 High        Low       Open      Close      Volume  Adj Close\n",
       "Date                                                                         \n",
       "2010-01-04  37.320000  36.820000  36.950001  37.320000  13303600.0  31.196165\n",
       "2010-01-05  37.430000  36.799999  37.380001  37.000000  21396400.0  30.928682\n",
       "2010-01-06  37.500000  36.799999  36.799999  37.500000  18720600.0  31.346632\n",
       "2010-01-07  37.450001  37.070000  37.270000  37.150002  10964600.0  31.054062\n",
       "2010-01-08  37.389999  36.860001  37.160000  36.950001  14624200.0  30.886881\n",
       "...               ...        ...        ...        ...         ...        ...\n",
       "2020-09-04  23.030001  22.580000  23.000000  22.920000  52351100.0  22.920000\n",
       "2020-09-08  22.500000  21.910000  22.500000  22.260000  74490200.0  22.260000\n",
       "2020-09-09  22.770000  22.490000  22.490000  22.730000  42143500.0  22.730000\n",
       "2020-09-10  22.580000  22.110001  22.580000  22.120001  58350000.0  22.120001\n",
       "2020-09-11  22.170000  21.790001  22.120001  21.830000  14875800.0  21.830000\n",
       "\n",
       "[2615 rows x 6 columns]"
      ]
     },
     "execution_count": 8,
     "metadata": {},
     "output_type": "execute_result"
    }
   ],
   "source": [
    "PETR4"
   ]
  },
  {
   "cell_type": "code",
   "execution_count": null,
   "metadata": {},
   "outputs": [],
   "source": []
  }
 ],
 "metadata": {
  "kernelspec": {
   "display_name": "Python 3",
   "language": "python",
   "name": "python3"
  },
  "language_info": {
   "codemirror_mode": {
    "name": "ipython",
    "version": 3
   },
   "file_extension": ".py",
   "mimetype": "text/x-python",
   "name": "python",
   "nbconvert_exporter": "python",
   "pygments_lexer": "ipython3",
   "version": "3.8.3"
  }
 },
 "nbformat": 4,
 "nbformat_minor": 4
}
