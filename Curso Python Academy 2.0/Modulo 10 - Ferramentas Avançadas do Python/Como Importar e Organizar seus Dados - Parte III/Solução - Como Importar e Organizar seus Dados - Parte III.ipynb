{
 "cells": [
  {
   "cell_type": "markdown",
   "metadata": {},
   "source": [
    "## Como Importar e Organizar seus Dados - Parte III"
   ]
  },
  {
   "cell_type": "markdown",
   "metadata": {},
   "source": [
    "\n",
    "* Seguem as respostas sugeridas (geralmente, existem várias maneiras de resolver um problema em Python). *"
   ]
  },
  {
   "cell_type": "markdown",
   "metadata": {},
   "source": [
    "\n",
    "Salve os dados obtidos no exercício anterior como um arquivo csv. Em seguida, salve-o em formato excel. <br />\n",
    "Você se lembra de qual biblioteca pode ajudá-lo a fazer isso? Não se esqueça de importá-lo primeiro!"
   ]
  },
  {
   "cell_type": "code",
   "execution_count": 1,
   "metadata": {},
   "outputs": [],
   "source": [
    "import pandas as pd\n",
    "from pandas_datareader import data as wb "
   ]
  },
  {
   "cell_type": "code",
   "execution_count": 4,
   "metadata": {},
   "outputs": [],
   "source": [
    "tickers = ['VALE3.SA', 'AMAR3.SA', 'SBSP3.SA', 'PETR4.SA']\n",
    "dados = pd.DataFrame()\n",
    "for t in tickers:\n",
    "    dados[t] = wb.DataReader(t, data_source='yahoo', start='2015-1-1')['Close']"
   ]
  },
  {
   "cell_type": "code",
   "execution_count": 9,
   "metadata": {},
   "outputs": [
    {
     "data": {
      "text/html": [
       "<div>\n",
       "<style scoped>\n",
       "    .dataframe tbody tr th:only-of-type {\n",
       "        vertical-align: middle;\n",
       "    }\n",
       "\n",
       "    .dataframe tbody tr th {\n",
       "        vertical-align: top;\n",
       "    }\n",
       "\n",
       "    .dataframe thead th {\n",
       "        text-align: right;\n",
       "    }\n",
       "</style>\n",
       "<table border=\"1\" class=\"dataframe\">\n",
       "  <thead>\n",
       "    <tr style=\"text-align: right;\">\n",
       "      <th></th>\n",
       "      <th>VALE3.SA</th>\n",
       "      <th>AMAR3.SA</th>\n",
       "      <th>SBSP3.SA</th>\n",
       "      <th>PETR4.SA</th>\n",
       "    </tr>\n",
       "    <tr>\n",
       "      <th>Date</th>\n",
       "      <th></th>\n",
       "      <th></th>\n",
       "      <th></th>\n",
       "      <th></th>\n",
       "    </tr>\n",
       "  </thead>\n",
       "  <tbody>\n",
       "    <tr>\n",
       "      <th>2015-01-02</th>\n",
       "      <td>21.280001</td>\n",
       "      <td>13.1909</td>\n",
       "      <td>16.799999</td>\n",
       "      <td>9.36</td>\n",
       "    </tr>\n",
       "    <tr>\n",
       "      <th>2015-01-05</th>\n",
       "      <td>20.959999</td>\n",
       "      <td>13.0909</td>\n",
       "      <td>16.799999</td>\n",
       "      <td>8.56</td>\n",
       "    </tr>\n",
       "    <tr>\n",
       "      <th>2015-01-06</th>\n",
       "      <td>21.799999</td>\n",
       "      <td>12.2818</td>\n",
       "      <td>16.750000</td>\n",
       "      <td>8.28</td>\n",
       "    </tr>\n",
       "    <tr>\n",
       "      <th>2015-01-07</th>\n",
       "      <td>22.600000</td>\n",
       "      <td>12.5091</td>\n",
       "      <td>17.100000</td>\n",
       "      <td>8.67</td>\n",
       "    </tr>\n",
       "    <tr>\n",
       "      <th>2015-01-08</th>\n",
       "      <td>22.840000</td>\n",
       "      <td>12.3727</td>\n",
       "      <td>17.160000</td>\n",
       "      <td>9.23</td>\n",
       "    </tr>\n",
       "  </tbody>\n",
       "</table>\n",
       "</div>"
      ],
      "text/plain": [
       "             VALE3.SA  AMAR3.SA   SBSP3.SA  PETR4.SA\n",
       "Date                                                \n",
       "2015-01-02  21.280001   13.1909  16.799999      9.36\n",
       "2015-01-05  20.959999   13.0909  16.799999      8.56\n",
       "2015-01-06  21.799999   12.2818  16.750000      8.28\n",
       "2015-01-07  22.600000   12.5091  17.100000      8.67\n",
       "2015-01-08  22.840000   12.3727  17.160000      9.23"
      ]
     },
     "execution_count": 9,
     "metadata": {},
     "output_type": "execute_result"
    }
   ],
   "source": [
    "dados.head()"
   ]
  },
  {
   "cell_type": "code",
   "execution_count": 8,
   "metadata": {},
   "outputs": [
    {
     "data": {
      "text/html": [
       "<div>\n",
       "<style scoped>\n",
       "    .dataframe tbody tr th:only-of-type {\n",
       "        vertical-align: middle;\n",
       "    }\n",
       "\n",
       "    .dataframe tbody tr th {\n",
       "        vertical-align: top;\n",
       "    }\n",
       "\n",
       "    .dataframe thead th {\n",
       "        text-align: right;\n",
       "    }\n",
       "</style>\n",
       "<table border=\"1\" class=\"dataframe\">\n",
       "  <thead>\n",
       "    <tr style=\"text-align: right;\">\n",
       "      <th></th>\n",
       "      <th>VALE3.SA</th>\n",
       "      <th>AMAR3.SA</th>\n",
       "      <th>SBSP3.SA</th>\n",
       "      <th>PETR4.SA</th>\n",
       "    </tr>\n",
       "    <tr>\n",
       "      <th>Date</th>\n",
       "      <th></th>\n",
       "      <th></th>\n",
       "      <th></th>\n",
       "      <th></th>\n",
       "    </tr>\n",
       "  </thead>\n",
       "  <tbody>\n",
       "    <tr>\n",
       "      <th>2020-09-01</th>\n",
       "      <td>61.759998</td>\n",
       "      <td>8.54</td>\n",
       "      <td>49.349998</td>\n",
       "      <td>22.870001</td>\n",
       "    </tr>\n",
       "    <tr>\n",
       "      <th>2020-09-02</th>\n",
       "      <td>61.320000</td>\n",
       "      <td>8.74</td>\n",
       "      <td>50.299999</td>\n",
       "      <td>22.799999</td>\n",
       "    </tr>\n",
       "    <tr>\n",
       "      <th>2020-09-03</th>\n",
       "      <td>59.320000</td>\n",
       "      <td>8.55</td>\n",
       "      <td>48.990002</td>\n",
       "      <td>22.879999</td>\n",
       "    </tr>\n",
       "    <tr>\n",
       "      <th>2020-09-04</th>\n",
       "      <td>60.490002</td>\n",
       "      <td>8.43</td>\n",
       "      <td>49.160000</td>\n",
       "      <td>22.920000</td>\n",
       "    </tr>\n",
       "    <tr>\n",
       "      <th>2020-09-08</th>\n",
       "      <td>59.270000</td>\n",
       "      <td>8.21</td>\n",
       "      <td>49.189999</td>\n",
       "      <td>22.230000</td>\n",
       "    </tr>\n",
       "  </tbody>\n",
       "</table>\n",
       "</div>"
      ],
      "text/plain": [
       "             VALE3.SA  AMAR3.SA   SBSP3.SA   PETR4.SA\n",
       "Date                                                 \n",
       "2020-09-01  61.759998      8.54  49.349998  22.870001\n",
       "2020-09-02  61.320000      8.74  50.299999  22.799999\n",
       "2020-09-03  59.320000      8.55  48.990002  22.879999\n",
       "2020-09-04  60.490002      8.43  49.160000  22.920000\n",
       "2020-09-08  59.270000      8.21  49.189999  22.230000"
      ]
     },
     "execution_count": 8,
     "metadata": {},
     "output_type": "execute_result"
    }
   ],
   "source": [
    "dados.tail()"
   ]
  },
  {
   "cell_type": "code",
   "execution_count": 10,
   "metadata": {},
   "outputs": [],
   "source": [
    "dados.to_csv('C:/Users/leona/OneDrive/Área de Trabalho/exercicios/exemplo1.csv')"
   ]
  },
  {
   "cell_type": "code",
   "execution_count": 11,
   "metadata": {},
   "outputs": [],
   "source": [
    "dados.to_excel('C:/Users/leona/OneDrive/Área de Trabalho/exercicios/exemplo2.xlsx')"
   ]
  },
  {
   "cell_type": "code",
   "execution_count": null,
   "metadata": {},
   "outputs": [],
   "source": []
  }
 ],
 "metadata": {
  "kernelspec": {
   "display_name": "Python 3",
   "language": "python",
   "name": "python3"
  },
  "language_info": {
   "codemirror_mode": {
    "name": "ipython",
    "version": 3
   },
   "file_extension": ".py",
   "mimetype": "text/x-python",
   "name": "python",
   "nbconvert_exporter": "python",
   "pygments_lexer": "ipython3",
   "version": "3.8.3"
  }
 },
 "nbformat": 4,
 "nbformat_minor": 2
}
