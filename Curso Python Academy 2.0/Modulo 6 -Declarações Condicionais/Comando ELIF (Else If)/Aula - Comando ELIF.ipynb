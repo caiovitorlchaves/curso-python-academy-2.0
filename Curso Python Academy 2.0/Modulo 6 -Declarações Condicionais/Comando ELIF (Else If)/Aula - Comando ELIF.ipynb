{
 "cells": [
  {
   "cell_type": "markdown",
   "metadata": {},
   "source": [
    "O computador sempre lê seus comandos de cima para baixo! (ELIF é uma abreviação de Else If)"
   ]
  },
  {
   "cell_type": "code",
   "execution_count": 10,
   "metadata": {},
   "outputs": [],
   "source": [
    "def compare_com_oito(y):\n",
    "    if y > 8:\n",
    "        return 'Maior'\n",
    "    elif y < 8:\n",
    "        return 'Menor'\n",
    "    elif y < 0:\n",
    "        return 'Negativo'\n",
    "    else:\n",
    "        return 'Igual'"
   ]
  },
  {
   "cell_type": "code",
   "execution_count": 2,
   "metadata": {},
   "outputs": [
    {
     "name": "stdout",
     "output_type": "stream",
     "text": [
      "Maior\n"
     ]
    }
   ],
   "source": [
    "print(compare_com_oito(9))"
   ]
  },
  {
   "cell_type": "code",
   "execution_count": 3,
   "metadata": {},
   "outputs": [
    {
     "name": "stdout",
     "output_type": "stream",
     "text": [
      "Menor\n"
     ]
    }
   ],
   "source": [
    "print(compare_com_oito(2))"
   ]
  },
  {
   "cell_type": "code",
   "execution_count": 5,
   "metadata": {},
   "outputs": [
    {
     "name": "stdout",
     "output_type": "stream",
     "text": [
      "Menor\n"
     ]
    }
   ],
   "source": [
    "print(compare_com_oito(-12))\n",
    "# deveria dar 'negativo' mas como o computador lê de cima para baixo a primeira opção que atendia era 'Menor'"
   ]
  },
  {
   "cell_type": "code",
   "execution_count": 6,
   "metadata": {},
   "outputs": [],
   "source": [
    "def compare_com_oito(y):\n",
    "    if y > 8:\n",
    "        return 'Maior'\n",
    "    elif y < 0:\n",
    "        return 'Negativo'\n",
    "    elif y < 8:\n",
    "        return 'Menor'\n",
    "    else:\n",
    "        return 'Igual'"
   ]
  },
  {
   "cell_type": "code",
   "execution_count": 8,
   "metadata": {},
   "outputs": [
    {
     "name": "stdout",
     "output_type": "stream",
     "text": [
      "Negativo\n"
     ]
    }
   ],
   "source": [
    "print(compare_com_oito(-12))\n",
    "# nessa resposta como troquei a ordem de 'negativo' e 'Menor' e -12 atendia os dois, ele me deu o primeiro resultado!"
   ]
  },
  {
   "cell_type": "code",
   "execution_count": null,
   "metadata": {},
   "outputs": [],
   "source": []
  }
 ],
 "metadata": {
  "kernelspec": {
   "display_name": "Python 3",
   "language": "python",
   "name": "python3"
  },
  "language_info": {
   "codemirror_mode": {
    "name": "ipython",
    "version": 3
   },
   "file_extension": ".py",
   "mimetype": "text/x-python",
   "name": "python",
   "nbconvert_exporter": "python",
   "pygments_lexer": "ipython3",
   "version": "3.8.3"
  }
 },
 "nbformat": 4,
 "nbformat_minor": 4
}
