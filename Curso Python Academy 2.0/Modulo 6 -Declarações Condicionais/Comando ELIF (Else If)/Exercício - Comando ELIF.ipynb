{
 "cells": [
  {
   "cell_type": "markdown",
   "metadata": {},
   "source": [
    "## Comando- ELIF"
   ]
  },
  {
   "cell_type": "markdown",
   "metadata": {},
   "source": [
    "\n",
    "Seguem as respostas sugeridas (geralmente existem várias maneiras de resolver um problema em Python)."
   ]
  },
  {
   "cell_type": "markdown",
   "metadata": {},
   "source": [
    "\n",
    "Atribua 200 a variavel x. Crie o seguinte trecho de código: Se x> 150, imprima \"Grande\"; Se x> 100 e x <= 150, imprima \"Médio\"; e se x <= 100, imprima \"Pequeno\". Use as palavras-chave If, ​​Elif e Else em seu código.\n",
    "\n",
    "Altere o valor inicial de x para ver como sua saída irá variar."
   ]
  },
  {
   "cell_type": "code",
   "execution_count": null,
   "metadata": {
    "scrolled": true
   },
   "outputs": [],
   "source": []
  },
  {
   "cell_type": "markdown",
   "metadata": {},
   "source": [
    "Mantenha as duas primeiras condições do código anterior. Adicione uma nova instrução ELIF, de modo que, eventualmente, o programa imprima \"Pequeno\" se x> = 0 e x <= 100, e \"Negativo\" se x <0. Deixe x levar o valor de 50 e depois de -50 para verifique se o seu código está correto."
   ]
  },
  {
   "cell_type": "code",
   "execution_count": null,
   "metadata": {},
   "outputs": [],
   "source": []
  },
  {
   "cell_type": "code",
   "execution_count": null,
   "metadata": {},
   "outputs": [],
   "source": []
  }
 ],
 "metadata": {
  "anaconda-cloud": {},
  "kernelspec": {
   "display_name": "Python 3",
   "language": "python",
   "name": "python3"
  },
  "language_info": {
   "codemirror_mode": {
    "name": "ipython",
    "version": 3
   },
   "file_extension": ".py",
   "mimetype": "text/x-python",
   "name": "python",
   "nbconvert_exporter": "python",
   "pygments_lexer": "ipython3",
   "version": "3.8.3"
  }
 },
 "nbformat": 4,
 "nbformat_minor": 1
}
