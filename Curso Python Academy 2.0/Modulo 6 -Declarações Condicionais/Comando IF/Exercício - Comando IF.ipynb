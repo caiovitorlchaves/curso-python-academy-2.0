{
 "cells": [
  {
   "cell_type": "markdown",
   "metadata": {},
   "source": [
    "## Comando IF"
   ]
  },
  {
   "cell_type": "markdown",
   "metadata": {},
   "source": [
    "\n",
    "Seguem as respostas sugeridas (geralmente existem várias maneiras de resolver um problema em Python)."
   ]
  },
  {
   "cell_type": "markdown",
   "metadata": {},
   "source": [
    "\n",
    "Crie um código de duas linhas que imprima \"Só o amor constroi pontes indestrutíveis\" se 27 for maior que 9."
   ]
  },
  {
   "cell_type": "code",
   "execution_count": 3,
   "metadata": {},
   "outputs": [
    {
     "name": "stdout",
     "output_type": "stream",
     "text": [
      "\"Só o amor constroi pontes indestrutiveis\"\n"
     ]
    }
   ],
   "source": [
    "if 27 > 9:\n",
    "    print('\"Só o amor constroi pontes indestrutiveis\"')"
   ]
  },
  {
   "cell_type": "markdown",
   "metadata": {},
   "source": [
    "Atribua 12 à variável x e 21 à variável y. Na mesma célula, crie 2 declarações condicionais. Deixe o primeiro imprimir \"Ambas as condições estão corretas\" se x for maior que 3 ey for maior que 13. Deixe o segundo imprimir \"Pelo menos uma das condições é falsa\" se x for menor ou igual a 3 ou y é menor ou igual a 13. Altere os valores atribuídos a xey e execute novamente a célula para verificar se seu código ainda funciona."
   ]
  },
  {
   "cell_type": "code",
   "execution_count": 6,
   "metadata": {},
   "outputs": [
    {
     "name": "stdout",
     "output_type": "stream",
     "text": [
      "Ambas as condições estão corretas\n"
     ]
    }
   ],
   "source": [
    "x = 12\n",
    "y = 21\n",
    "\n",
    "if x > 3 and y > 13:\n",
    "    print(\"Ambas as condições estão corretas\")"
   ]
  },
  {
   "cell_type": "code",
   "execution_count": 9,
   "metadata": {},
   "outputs": [
    {
     "name": "stdout",
     "output_type": "stream",
     "text": [
      "Pelo menos uma das condições é falsa\n"
     ]
    }
   ],
   "source": [
    "x = 2\n",
    "y = 21\n",
    "\n",
    "if x <= 3 or y <= 13:\n",
    "    print(\"Pelo menos uma das condições é falsa\")"
   ]
  }
 ],
 "metadata": {
  "anaconda-cloud": {},
  "kernelspec": {
   "display_name": "Python 3",
   "language": "python",
   "name": "python3"
  },
  "language_info": {
   "codemirror_mode": {
    "name": "ipython",
    "version": 3
   },
   "file_extension": ".py",
   "mimetype": "text/x-python",
   "name": "python",
   "nbconvert_exporter": "python",
   "pygments_lexer": "ipython3",
   "version": "3.9.2"
  }
 },
 "nbformat": 4,
 "nbformat_minor": 1
}
