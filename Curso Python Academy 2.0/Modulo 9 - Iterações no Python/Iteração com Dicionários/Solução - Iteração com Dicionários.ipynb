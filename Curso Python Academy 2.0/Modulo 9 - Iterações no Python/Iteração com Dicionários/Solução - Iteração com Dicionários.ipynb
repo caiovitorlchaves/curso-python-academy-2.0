{
 "cells": [
  {
   "cell_type": "markdown",
   "metadata": {},
   "source": [
    "## Iteração com Dicionários"
   ]
  },
  {
   "cell_type": "markdown",
   "metadata": {},
   "source": [
    "\n",
    "Seguem as respostas sugeridas (geralmente existem várias maneiras de resolver um problema em Python)."
   ]
  },
  {
   "cell_type": "markdown",
   "metadata": {},
   "source": [
    "Neste exercício, você usará os mesmos dicionários que usamos na lição - \"preços\" e \"quantidade\". Desta vez, não calcule apenas todo o dinheiro que Carlos gastou. Calcule quanto ela gastou em produtos com preço de 5 dólares ou mais."
   ]
  },
  {
   "cell_type": "code",
   "execution_count": 2,
   "metadata": {},
   "outputs": [],
   "source": [
    "preços = {\n",
    "    \"macarrão\" : 4,\n",
    "    \"peixe\"  : 5,\n",
    "    \"hamburger\" : 2\n",
    "   }\n",
    "quantidades = {\n",
    "    \"macarrão\" : 6,\n",
    "    \"peixe\"  : 10,\n",
    "    \"hamburger\" : 0\n",
    "    }\n",
    "\n",
    "dinheiro_gasto = 0"
   ]
  },
  {
   "cell_type": "code",
   "execution_count": 3,
   "metadata": {},
   "outputs": [
    {
     "name": "stdout",
     "output_type": "stream",
     "text": [
      "50\n"
     ]
    }
   ],
   "source": [
    "for i in quantidades:\n",
    "    if preços[i]>=5:\n",
    "        dinheiro_gasto += preços[i]*quantidades[i] \n",
    "    else:\n",
    "        dinheiro_gasto = dinheiro_gasto\n",
    "\n",
    "print (dinheiro_gasto)"
   ]
  },
  {
   "cell_type": "markdown",
   "metadata": {},
   "source": [
    "\n",
    "E quanto Carlos gastou em produtos que custam menos de 5 dólares?"
   ]
  },
  {
   "cell_type": "code",
   "execution_count": 4,
   "metadata": {},
   "outputs": [],
   "source": [
    "preços = {\n",
    "    \"macarrão\" : 4,\n",
    "    \"peixe\"  : 5,\n",
    "    \"hamburger\" : 2\n",
    "   }\n",
    "quantidades = {\n",
    "    \"macarrão\" : 6,\n",
    "    \"peixe\"  : 10,\n",
    "    \"hamburger\" : 0\n",
    "    }\n",
    "\n",
    "dinheiro_gasto = 0"
   ]
  },
  {
   "cell_type": "code",
   "execution_count": 5,
   "metadata": {},
   "outputs": [
    {
     "name": "stdout",
     "output_type": "stream",
     "text": [
      "24\n"
     ]
    }
   ],
   "source": [
    "for i in quantidades:\n",
    "    if preços[i]<5:\n",
    "        dinheiro_gasto += preços[i]*quantidades[i] \n",
    "    else:\n",
    "        dinheiro_gasto = dinheiro_gasto\n",
    "\n",
    "print (dinheiro_gasto)"
   ]
  },
  {
   "cell_type": "code",
   "execution_count": null,
   "metadata": {},
   "outputs": [],
   "source": []
  }
 ],
 "metadata": {
  "anaconda-cloud": {},
  "kernelspec": {
   "display_name": "Python 3",
   "language": "python",
   "name": "python3"
  },
  "language_info": {
   "codemirror_mode": {
    "name": "ipython",
    "version": 3
   },
   "file_extension": ".py",
   "mimetype": "text/x-python",
   "name": "python",
   "nbconvert_exporter": "python",
   "pygments_lexer": "ipython3",
   "version": "3.8.3"
  }
 },
 "nbformat": 4,
 "nbformat_minor": 1
}
