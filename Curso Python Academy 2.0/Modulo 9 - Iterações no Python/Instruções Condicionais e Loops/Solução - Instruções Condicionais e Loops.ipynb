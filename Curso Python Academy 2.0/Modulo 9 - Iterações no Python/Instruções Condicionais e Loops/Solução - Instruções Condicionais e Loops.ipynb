{
 "cells": [
  {
   "cell_type": "markdown",
   "metadata": {},
   "source": [
    "## Instruções Codicionais e Loops"
   ]
  },
  {
   "cell_type": "markdown",
   "metadata": {},
   "source": [
    "\n",
    "Crie um loop que imprimirá todas as variáveis ​​de uma determinada lista multiplicadas por 2. Deixe a lista conter todos os números de 1 a 27. Crie-a com a ajuda da função range ()."
   ]
  },
  {
   "cell_type": "code",
   "execution_count": 1,
   "metadata": {},
   "outputs": [
    {
     "name": "stdout",
     "output_type": "stream",
     "text": [
      "2 4 6 8 10 12 14 16 18 20 22 24 26 28 30 32 34 36 38 40 42 44 46 48 50 52 54 "
     ]
    }
   ],
   "source": [
    "for n in list(range(1,28)):\n",
    "    print (n*2,end=\" \")"
   ]
  },
  {
   "cell_type": "markdown",
   "metadata": {},
   "source": [
    "Crie um pequeno programa que execute um loop sobre todos os valores de 1 a 30. Deixe-o imprimir todos os números ímpares e, no lugar dos números pares, deverá imprimir \"Par\". Use a função range () para resolver este exercício."
   ]
  },
  {
   "cell_type": "code",
   "execution_count": 2,
   "metadata": {},
   "outputs": [
    {
     "name": "stdout",
     "output_type": "stream",
     "text": [
      "1 Par 3 Par 5 Par 7 Par 9 Par 11 Par 13 Par 15 Par 17 Par 19 Par 21 Par 23 Par 25 Par 27 Par 29 Par "
     ]
    }
   ],
   "source": [
    "for n in list(range(1,31)):\n",
    "    if n%2 == 1:\n",
    "        print( n, end=\" \")\n",
    "    else:\n",
    "        print('Par', end=\" \")"
   ]
  },
  {
   "cell_type": "markdown",
   "metadata": {},
   "source": [
    "\n",
    "Você tem a seguinte lista de números. Repita esta lista, imprimindo cada valor da lista multiplicado por 10. Encontre duas soluções para este problema."
   ]
  },
  {
   "cell_type": "code",
   "execution_count": 3,
   "metadata": {},
   "outputs": [],
   "source": [
    "n = [1,2,3,4,5,6]"
   ]
  },
  {
   "cell_type": "code",
   "execution_count": 4,
   "metadata": {},
   "outputs": [
    {
     "name": "stdout",
     "output_type": "stream",
     "text": [
      "10 20 30 40 50 60 "
     ]
    }
   ],
   "source": [
    "for item in n:\n",
    "    print(item*10,end=\" \")"
   ]
  },
  {
   "cell_type": "markdown",
   "metadata": {},
   "source": [
    "Ou:"
   ]
  },
  {
   "cell_type": "code",
   "execution_count": 5,
   "metadata": {},
   "outputs": [
    {
     "name": "stdout",
     "output_type": "stream",
     "text": [
      "10 20 30 40 50 60 "
     ]
    }
   ],
   "source": [
    "for item in list(range(len(n))):\n",
    "                 print(n[item]*10,end=\" \")"
   ]
  },
  {
   "cell_type": "code",
   "execution_count": null,
   "metadata": {},
   "outputs": [],
   "source": []
  },
  {
   "cell_type": "code",
   "execution_count": null,
   "metadata": {},
   "outputs": [],
   "source": []
  }
 ],
 "metadata": {
  "anaconda-cloud": {},
  "kernelspec": {
   "display_name": "Python 3",
   "language": "python",
   "name": "python3"
  },
  "language_info": {
   "codemirror_mode": {
    "name": "ipython",
    "version": 3
   },
   "file_extension": ".py",
   "mimetype": "text/x-python",
   "name": "python",
   "nbconvert_exporter": "python",
   "pygments_lexer": "ipython3",
   "version": "3.8.3"
  }
 },
 "nbformat": 4,
 "nbformat_minor": 1
}
