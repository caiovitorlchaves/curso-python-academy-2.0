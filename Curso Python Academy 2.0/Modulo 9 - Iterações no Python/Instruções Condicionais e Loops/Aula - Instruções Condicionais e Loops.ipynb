{
 "cells": [
  {
   "cell_type": "code",
   "execution_count": 1,
   "metadata": {},
   "outputs": [
    {
     "data": {
      "text/plain": [
       "[0, 1, 2, 3, 4, 5, 6, 7, 8, 9, 10]"
      ]
     },
     "execution_count": 1,
     "metadata": {},
     "output_type": "execute_result"
    }
   ],
   "source": [
    "list(range(11))\n",
    "# precisei colocar list ai pois em python 3 é a unica forma de aparecer todos os itens de 0 até 10"
   ]
  },
  {
   "cell_type": "code",
   "execution_count": 2,
   "metadata": {},
   "outputs": [
    {
     "name": "stdout",
     "output_type": "stream",
     "text": [
      "1 2 4 8 16 32 64 128 256 512 1024 "
     ]
    }
   ],
   "source": [
    "for n in list(range(11)):\n",
    "    print(2**n, end=\" \")\n",
    "# 2^1, 2^2 ... 2^10"
   ]
  },
  {
   "cell_type": "code",
   "execution_count": 3,
   "metadata": {},
   "outputs": [
    {
     "name": "stdout",
     "output_type": "stream",
     "text": [
      "0 impar 2 impar 4 impar 6 impar 8 impar 10 impar 12 impar 14 impar 16 impar 18 impar 20 "
     ]
    }
   ],
   "source": [
    "for x in list(range(21)):\n",
    "    if x%2 == 0:\n",
    "        print(x,end=\" \")\n",
    "    else:\n",
    "        print('impar', end=\" \")\n",
    "# x%2 == 0 seria o mesmo que dizer se for um numero par"
   ]
  },
  {
   "cell_type": "code",
   "execution_count": null,
   "metadata": {},
   "outputs": [],
   "source": []
  },
  {
   "cell_type": "code",
   "execution_count": null,
   "metadata": {},
   "outputs": [],
   "source": []
  }
 ],
 "metadata": {
  "kernelspec": {
   "display_name": "Python 3",
   "language": "python",
   "name": "python3"
  },
  "language_info": {
   "codemirror_mode": {
    "name": "ipython",
    "version": 3
   },
   "file_extension": ".py",
   "mimetype": "text/x-python",
   "name": "python",
   "nbconvert_exporter": "python",
   "pygments_lexer": "ipython3",
   "version": "3.8.3"
  }
 },
 "nbformat": 4,
 "nbformat_minor": 4
}
