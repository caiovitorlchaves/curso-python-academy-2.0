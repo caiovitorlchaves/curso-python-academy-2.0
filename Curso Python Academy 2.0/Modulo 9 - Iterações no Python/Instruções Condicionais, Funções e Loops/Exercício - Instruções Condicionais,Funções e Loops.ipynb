{
 "cells": [
  {
   "cell_type": "markdown",
   "metadata": {},
   "source": [
    "##  Instruções Condicionais,Funções e Loops"
   ]
  },
  {
   "cell_type": "markdown",
   "metadata": {},
   "source": [
    "\n",
    "Seguem as respostas sugeridas (geralmente existem várias maneiras de resolver um problema em Python)."
   ]
  },
  {
   "cell_type": "markdown",
   "metadata": {},
   "source": [
    "Você é fornecido com a lista 'numeros'. Complete o código na célula a seguir. Use um while loop para contar o número de valores abaixo de 40. <br/>\n",
    "* Dica: Este exercício é semelhante ao que fizemos na aula de vídeo. Você pode preferir usar a estrutura x [item] para indicar o valor de um elemento da lista. *"
   ]
  },
  {
   "cell_type": "code",
   "execution_count": 1,
   "metadata": {},
   "outputs": [],
   "source": []
  },
  {
   "cell_type": "code",
   "execution_count": 2,
   "metadata": {},
   "outputs": [],
   "source": []
  },
  {
   "cell_type": "code",
   "execution_count": null,
   "metadata": {},
   "outputs": [],
   "source": []
  }
 ],
 "metadata": {
  "anaconda-cloud": {},
  "kernelspec": {
   "display_name": "Python 3",
   "language": "python",
   "name": "python3"
  },
  "language_info": {
   "codemirror_mode": {
    "name": "ipython",
    "version": 3
   },
   "file_extension": ".py",
   "mimetype": "text/x-python",
   "name": "python",
   "nbconvert_exporter": "python",
   "pygments_lexer": "ipython3",
   "version": "3.8.3"
  }
 },
 "nbformat": 4,
 "nbformat_minor": 1
}
